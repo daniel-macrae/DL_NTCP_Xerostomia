{
 "cells": [
  {
   "cell_type": "code",
   "execution_count": 1,
   "metadata": {},
   "outputs": [],
   "source": [
    "import os\n",
    "import pandas as pd\n",
    "import numpy as np\n",
    "\n"
   ]
  },
  {
   "cell_type": "code",
   "execution_count": 23,
   "metadata": {},
   "outputs": [],
   "source": [
    "import shutil\n",
    "csv_dir = \"datasets/hendrike_taste/stratified_sampling_test_hendrike.csv\"\n",
    "df_strat_split = pd.read_csv(csv_dir, delimiter=\";\")\n",
    "\n",
    "df_strat_split[\"PatientID\"] = ['%0.{}d'.format(7) % int(x) for x in df_strat_split['PatientID']]\n",
    "df_strat_split\n",
    "\n",
    "taste_source_dir = \"datasets/hendrike_taste/dataset_full\"\n",
    "taste_destination_dir = \"datasets/hendrike_taste\"\n",
    "# Iterate over each row in the DataFrame\n",
    "for index, row in df_strat_split.iterrows():\n",
    "    patient_id = row['PatientID']\n",
    "    label = row['Taste_M06']\n",
    "    if label == 1: label = '1'\n",
    "    else: label = '0'\n",
    "    \n",
    "    # Create the destination folder path based on the Split column\n",
    "    destination_folder = os.path.join(taste_destination_dir, label)\n",
    "    \n",
    "    # Create the source and destination folder paths\n",
    "    source_folder = os.path.join(taste_source_dir, patient_id)\n",
    "    destination_folder = os.path.join(destination_folder, patient_id)\n",
    "    \n",
    "    # Move the folder to the destination folder\n",
    "    shutil.copytree(source_folder, destination_folder)\n"
   ]
  },
  {
   "cell_type": "code",
   "execution_count": null,
   "metadata": {},
   "outputs": [],
   "source": []
  },
  {
   "cell_type": "code",
   "execution_count": 11,
   "metadata": {},
   "outputs": [
    {
     "data": {
      "text/plain": [
       "['dataset_full', 'stratified_sampling_test_hendrike.csv']"
      ]
     },
     "execution_count": 11,
     "metadata": {},
     "output_type": "execute_result"
    }
   ],
   "source": [
    "taste_source_dir = \"datasets/hendrike_taste/\"\n",
    "list(os.listdir(taste_source_dir))\n"
   ]
  }
 ],
 "metadata": {
  "kernelspec": {
   "display_name": "HNC_conda",
   "language": "python",
   "name": "python3"
  },
  "language_info": {
   "codemirror_mode": {
    "name": "ipython",
    "version": 3
   },
   "file_extension": ".py",
   "mimetype": "text/x-python",
   "name": "python",
   "nbconvert_exporter": "python",
   "pygments_lexer": "ipython3",
   "version": "3.11.5"
  }
 },
 "nbformat": 4,
 "nbformat_minor": 2
}
